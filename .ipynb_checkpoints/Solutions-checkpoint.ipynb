{
 "cells": [
  {
   "cell_type": "code",
   "execution_count": 1,
   "metadata": {
    "collapsed": true
   },
   "outputs": [],
   "source": [
    "import robot_ice\n",
    "import VI\n"
   ]
  },
  {
   "cell_type": "markdown",
   "metadata": {},
   "source": [
    "<h1> Value Iteration </h1>"
   ]
  },
  {
   "cell_type": "code",
   "execution_count": 2,
   "metadata": {},
   "outputs": [
    {
     "name": "stdout",
     "output_type": "stream",
     "text": [
      "Value iteration converged at timestep  6\n",
      "Runtime :  0.0274550914764\n",
      "Policy\n",
      "[0, 0, 0, 0, 3, 3, 0, 0, 0, 0, 0, 0, 3, 3, 3, 0]\n",
      "Values\n",
      "[  67.71184824    0.            0.            0.           74.85948625\n",
      "   88.13975      81.45          0.           74.13975       0.           90.\n",
      "    0.           82.3775       90.5         100.            0.        ]\n",
      "\n",
      "\n",
      "Timestep :  0\n",
      ". . . G \n",
      ". X . X \n",
      ". . T X \n",
      "@ X X X \n",
      "\u001b[5A\n",
      "0.0\n",
      "\n",
      "\n",
      "Timestep :  1\n",
      ". . . G \n",
      ". X . X \n",
      "@ . T X \n",
      ". X X X \n",
      "\u001b[5A\n",
      "0.0\n",
      "\n",
      "\n",
      "Timestep :  2\n",
      ". . . G \n",
      ". X . X \n",
      ". @ T X \n",
      ". X X X \n",
      "\u001b[5A\n",
      "20.0\n",
      "\n",
      "\n",
      "Timestep :  3\n",
      ". . . G \n",
      ". X . X \n",
      ". . @ X \n",
      ". X X X \n",
      "\u001b[5A\n",
      "20.0\n",
      "\n",
      "\n",
      "Timestep :  4\n",
      ". . . G \n",
      ". X @ X \n",
      ". . T X \n",
      ". X X X \n",
      "\u001b[5A\n",
      "20.0\n",
      "\n",
      "\n",
      "Timestep :  5\n",
      ". . @ G \n",
      ". X . X \n",
      ". . T X \n",
      ". X X X \n",
      "\u001b[5A\n",
      "120.0\n",
      "\n",
      "\n",
      "Timestep :  6\n",
      ". . . @ \n",
      ". X . X \n",
      ". . T X \n",
      ". X X X \n"
     ]
    }
   ],
   "source": [
    "%run -i 'robot_ice.py' --algorithm value"
   ]
  },
  {
   "cell_type": "markdown",
   "metadata": {},
   "source": [
    "<h1> Simple Policy Iteration </h1>"
   ]
  },
  {
   "cell_type": "code",
   "execution_count": null,
   "metadata": {},
   "outputs": [],
   "source": [
    "%run -i 'robot_ice.py' --algorithm simple"
   ]
  },
  {
   "cell_type": "markdown",
   "metadata": {},
   "source": [
    "<h1>Howard Policy Iteration</h1>"
   ]
  },
  {
   "cell_type": "code",
   "execution_count": null,
   "metadata": {},
   "outputs": [],
   "source": [
    "%run -i 'robot_ice.py' --algorithm howard ⁻h 2"
   ]
  },
  {
   "cell_type": "markdown",
   "metadata": {},
   "source": [
    "<h1> Linear Programming </h1>"
   ]
  },
  {
   "cell_type": "code",
   "execution_count": 3,
   "metadata": {},
   "outputs": [
    {
     "name": "stdout",
     "output_type": "stream",
     "text": [
      "Optimize a model with 64 rows, 16 columns and 105 nonzeros\n",
      "Coefficient statistics:\n",
      "  Matrix range     [5e-02, 1e+00]\n",
      "  Objective range  [1e+00, 1e+00]\n",
      "  Bounds range     [0e+00, 0e+00]\n",
      "  RHS range        [5e-01, 1e+02]\n",
      "Presolve removed 47 rows and 8 columns\n",
      "Presolve time: 0.00s\n",
      "Presolved: 17 rows, 8 columns, 40 nonzeros\n",
      "\n",
      "Iteration    Objective       Primal Inf.    Dual Inf.      Time\n",
      "       0    5.3617424e+02   1.100736e+02   0.000000e+00      0s\n",
      "       2    7.4917833e+02   0.000000e+00   0.000000e+00      0s\n",
      "\n",
      "Solved in 2 iterations and 0.01 seconds\n",
      "Optimal objective  7.491783345e+02\n",
      "Runtime :  0.028392791748\n",
      "Policy\n",
      "[0, 0, 0, 0, 3, 3, 0, 0, 0, 0, 0, 0, 3, 3, 3, 0]\n",
      "Values\n",
      "[67.71184824375, 0.0, 0.0, 0.0, 74.85948625, 88.13975, 81.45, 0.0, 74.13975, 0.0, 90.0, 0.0, 82.3775, 90.5, 100.0, 0.0]\n",
      "\n",
      "\n",
      "Timestep :  0\n",
      ". . . G \n",
      ". X . X \n",
      ". . T X \n",
      "@ X X X \n",
      "\u001b[5A\n",
      "0.0\n",
      "\n",
      "\n",
      "Timestep :  1\n",
      ". . . G \n",
      ". X . X \n",
      "@ . T X \n",
      ". X X X \n",
      "\u001b[5A\n",
      "0.0\n",
      "\n",
      "\n",
      "Timestep :  2\n",
      ". . . G \n",
      ". X . X \n",
      ". @ T X \n",
      ". X X X \n",
      "\u001b[5A\n",
      "20.0\n",
      "\n",
      "\n",
      "Timestep :  3\n",
      ". . . G \n",
      ". X . X \n",
      ". . @ X \n",
      ". X X X \n",
      "\u001b[5A\n",
      "20.0\n",
      "\n",
      "\n",
      "Timestep :  4\n",
      ". . . G \n",
      ". X @ X \n",
      ". . T X \n",
      ". X X X \n",
      "\u001b[5A\n",
      "20.0\n",
      "\n",
      "\n",
      "Timestep :  5\n",
      ". . @ G \n",
      ". X . X \n",
      ". . T X \n",
      ". X X X \n",
      "\u001b[5A\n",
      "120.0\n",
      "\n",
      "\n",
      "Timestep :  6\n",
      ". . . @ \n",
      ". X . X \n",
      ". . T X \n",
      ". X X X \n"
     ]
    }
   ],
   "source": [
    "%run -i 'robot_ice.py' --algorithm linear"
   ]
  },
  {
   "cell_type": "code",
   "execution_count": null,
   "metadata": {
    "collapsed": true
   },
   "outputs": [],
   "source": []
  },
  {
   "cell_type": "code",
   "execution_count": null,
   "metadata": {
    "collapsed": true
   },
   "outputs": [],
   "source": []
  }
 ],
 "metadata": {
  "kernelspec": {
   "display_name": "Python 2",
   "language": "python",
   "name": "python2"
  },
  "language_info": {
   "codemirror_mode": {
    "name": "ipython",
    "version": 2
   },
   "file_extension": ".py",
   "mimetype": "text/x-python",
   "name": "python",
   "nbconvert_exporter": "python",
   "pygments_lexer": "ipython2",
   "version": "2.7.14"
  }
 },
 "nbformat": 4,
 "nbformat_minor": 2
}
