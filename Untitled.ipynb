{
 "cells": [
  {
   "cell_type": "code",
   "execution_count": 15,
   "metadata": {
    "collapsed": true
   },
   "outputs": [],
   "source": [
    "import robot_ice\n",
    "import VI\n"
   ]
  },
  {
   "cell_type": "code",
   "execution_count": 1,
   "metadata": {},
   "outputs": [
    {
     "name": "stdout",
     "output_type": "stream",
     "text": [
      "S\n",
      "SimplePolicyIteration converged at timestep  14\n",
      "Runtime :  0.0399460792542\n",
      "Policy\n",
      "[0, 0, 0, 0, 3, 3, 0, 0, 0, 0, 0, 0, 3, 3, 3, 0]\n",
      "Values\n",
      "[  19.61606869    0.            0.            0.           74.85948625\n",
      "   88.13975      81.45          0.           74.13975       0.           90.\n",
      "    0.           82.3775       90.5         100.            0.        ]\n",
      "\n",
      "\n",
      "Timestep :  0\n",
      ". . . G \n",
      ". X . X \n",
      ". . T X \n",
      "@ X X X \n",
      "\u001b[5A\n",
      "0.0\n",
      "\n",
      "\n",
      "Timestep :  1\n",
      ". . . G \n",
      ". X . X \n",
      "@ . T X \n",
      ". X X X \n",
      "\u001b[5A\n",
      "0.0\n",
      "\n",
      "\n",
      "Timestep :  2\n",
      ". . . G \n",
      ". X . X \n",
      ". @ T X \n",
      ". X X X \n",
      "\u001b[5A\n",
      "20.0\n",
      "\n",
      "\n",
      "Timestep :  3\n",
      ". . . G \n",
      ". X . X \n",
      ". . @ X \n",
      ". X X X \n",
      "\u001b[5A\n",
      "20.0\n",
      "\n",
      "\n",
      "Timestep :  4\n",
      ". . . G \n",
      ". X @ X \n",
      ". . T X \n",
      ". X X X \n",
      "\u001b[5A\n",
      "20.0\n",
      "\n",
      "\n",
      "Timestep :  5\n",
      ". . @ G \n",
      ". X . X \n",
      ". . T X \n",
      ". X X X \n",
      "\u001b[5A\n",
      "120.0\n",
      "\n",
      "\n",
      "Timestep :  6\n",
      ". . . @ \n",
      ". X . X \n",
      ". . T X \n",
      ". X X X \n"
     ]
    }
   ],
   "source": [
    "%run -i 'robot_ice.py' --algorithm simple"
   ]
  },
  {
   "cell_type": "code",
   "execution_count": 2,
   "metadata": {},
   "outputs": [
    {
     "name": "stdout",
     "output_type": "stream",
     "text": [
      "HowardPolicyIteration converged at timestep  5\n",
      "Runtime :  0.0268850326538\n",
      "Policy\n",
      "[0, 0, 0, 0, 3, 3, 0, 0, 0, 0, 0, 0, 3, 3, 3, 0]\n",
      "Values\n",
      "[  19.61606869    0.            0.            0.           74.85948625\n",
      "   88.13975      81.45          0.           74.13975       0.           90.\n",
      "    0.           82.3775       90.5         100.            0.        ]\n",
      "\n",
      "\n",
      "Timestep :  0\n",
      ". . . G \n",
      ". X . X \n",
      ". . T X \n",
      "@ X X X \n",
      "\u001b[5A\n",
      "0.0\n",
      "\n",
      "\n",
      "Timestep :  1\n",
      ". . . G \n",
      ". X . X \n",
      "@ . T X \n",
      ". X X X \n",
      "\u001b[5A\n",
      "0.0\n",
      "\n",
      "\n",
      "Timestep :  2\n",
      ". . . G \n",
      ". X . X \n",
      ". @ T X \n",
      ". X X X \n",
      "\u001b[5A\n",
      "20.0\n",
      "\n",
      "\n",
      "Timestep :  3\n",
      ". . . G \n",
      ". X . X \n",
      ". . @ X \n",
      ". X X X \n",
      "\u001b[5A\n",
      "20.0\n",
      "\n",
      "\n",
      "Timestep :  4\n",
      ". . . G \n",
      ". X @ X \n",
      ". . T X \n",
      ". X X X \n",
      "\u001b[5A\n",
      "20.0\n",
      "\n",
      "\n",
      "Timestep :  5\n",
      ". . @ G \n",
      ". X . X \n",
      ". . T X \n",
      ". X X X \n",
      "\u001b[5A\n",
      "120.0\n",
      "\n",
      "\n",
      "Timestep :  6\n",
      ". . . @ \n",
      ". X . X \n",
      ". . T X \n",
      ". X X X \n"
     ]
    }
   ],
   "source": [
    "%run -i 'robot_ice.py' --algorithm howard"
   ]
  },
  {
   "cell_type": "code",
   "execution_count": 6,
   "metadata": {},
   "outputs": [
    {
     "name": "stdout",
     "output_type": "stream",
     "text": [
      "Optimize a model with 1024 rows, 16 columns and 1065 nonzeros\n",
      "Coefficient statistics:\n",
      "  Matrix range     [5e-02, 1e+00]\n",
      "  Objective range  [1e+00, 1e+00]\n",
      "  Bounds range     [0e+00, 0e+00]\n",
      "  RHS range        [5e-01, 1e+02]\n",
      "Presolve removed 7 rows and 998 columns\n",
      "Presolve time: 0.00s\n",
      "Presolved: 9 rows, 26 columns, 51 nonzeros\n",
      "\n",
      "Iteration    Objective       Primal Inf.    Dual Inf.      Time\n",
      "       0   -4.8213125e+01   6.073825e+02   1.115746e+09      0s\n",
      "      11    7.1061963e+02   0.000000e+00   0.000000e+00      0s\n",
      "\n",
      "Solved in 11 iterations and 0.01 seconds\n",
      "Optimal objective  7.106196283e+02\n",
      "Runtime :  0.031956911087\n",
      "Policy\n",
      "[61.98525455624999, 0.0, 0.0, 0.0, 72.49737375, 84.79225, 76.95, 0.0, 65.79225, 0.0, 90.0, 0.0, 73.10249999999999, 85.5, 100.0]\n",
      "Values\n",
      "0\n",
      "\n",
      "\n",
      "Timestep :  0\n",
      ". . . G \n",
      ". X . X \n",
      ". . T X \n",
      "@ X X X \n"
     ]
    },
    {
     "ename": "TypeError",
     "evalue": "list indices must be integers, not float",
     "output_type": "error",
     "traceback": [
      "\u001b[0;31m---------------------------------------------------------------------------\u001b[0m",
      "\u001b[0;31mTypeError\u001b[0m                                 Traceback (most recent call last)",
      "\u001b[0;32m/home/god/git/assignment1_MAS/robot_ice.py\u001b[0m in \u001b[0;36m<module>\u001b[0;34m()\u001b[0m\n\u001b[1;32m    406\u001b[0m \u001b[0;34m\u001b[0m\u001b[0m\n\u001b[1;32m    407\u001b[0m     \u001b[0margs\u001b[0m \u001b[0;34m=\u001b[0m \u001b[0mparser\u001b[0m\u001b[0;34m.\u001b[0m\u001b[0mparse_args\u001b[0m\u001b[0;34m(\u001b[0m\u001b[0;34m)\u001b[0m\u001b[0;34m\u001b[0m\u001b[0m\n\u001b[0;32m--> 408\u001b[0;31m     \u001b[0msolve_mdp\u001b[0m\u001b[0;34m(\u001b[0m\u001b[0mhorizon\u001b[0m\u001b[0;34m=\u001b[0m\u001b[0margs\u001b[0m\u001b[0;34m.\u001b[0m\u001b[0mhorizon\u001b[0m\u001b[0;34m,\u001b[0m \u001b[0mepsilon\u001b[0m\u001b[0;34m=\u001b[0m\u001b[0margs\u001b[0m\u001b[0;34m.\u001b[0m\u001b[0mepsilon\u001b[0m\u001b[0;34m,\u001b[0m \u001b[0mdiscount\u001b[0m\u001b[0;34m=\u001b[0m\u001b[0margs\u001b[0m\u001b[0;34m.\u001b[0m\u001b[0mdiscount\u001b[0m\u001b[0;34m,\u001b[0m\u001b[0malgorithm\u001b[0m\u001b[0;34m=\u001b[0m\u001b[0margs\u001b[0m\u001b[0;34m.\u001b[0m\u001b[0malgorithm\u001b[0m\u001b[0;34m)\u001b[0m\u001b[0;34m\u001b[0m\u001b[0m\n\u001b[0m\u001b[1;32m    409\u001b[0m \u001b[0;34m\u001b[0m\u001b[0m\n\u001b[1;32m    410\u001b[0m \u001b[0;34m\u001b[0m\u001b[0m\n",
      "\u001b[0;32m/home/god/git/assignment1_MAS/robot_ice.py\u001b[0m in \u001b[0;36msolve_mdp\u001b[0;34m(horizon, epsilon, discount, algorithm)\u001b[0m\n\u001b[1;32m    379\u001b[0m             \u001b[0;32mbreak\u001b[0m\u001b[0;34m\u001b[0m\u001b[0m\n\u001b[1;32m    380\u001b[0m \u001b[0;34m\u001b[0m\u001b[0m\n\u001b[0;32m--> 381\u001b[0;31m         \u001b[0ms1\u001b[0m\u001b[0;34m,\u001b[0m \u001b[0mr\u001b[0m \u001b[0;34m=\u001b[0m \u001b[0msampleSR\u001b[0m\u001b[0;34m(\u001b[0m\u001b[0ms\u001b[0m\u001b[0;34m,\u001b[0m \u001b[0mpolicy\u001b[0m\u001b[0;34m[\u001b[0m\u001b[0ms\u001b[0m\u001b[0;34m]\u001b[0m\u001b[0;34m,\u001b[0m \u001b[0mT\u001b[0m\u001b[0;34m)\u001b[0m\u001b[0;34m\u001b[0m\u001b[0m\n\u001b[0m\u001b[1;32m    382\u001b[0m \u001b[0;34m\u001b[0m\u001b[0m\n\u001b[1;32m    383\u001b[0m         \u001b[0mtotalReward\u001b[0m \u001b[0;34m+=\u001b[0m \u001b[0mr\u001b[0m\u001b[0;34m\u001b[0m\u001b[0m\n",
      "\u001b[0;32m/home/god/git/assignment1_MAS/robot_ice.py\u001b[0m in \u001b[0;36msampleSR\u001b[0;34m(s, a, T)\u001b[0m\n\u001b[1;32m    270\u001b[0m \u001b[0;34m\u001b[0m\u001b[0m\n\u001b[1;32m    271\u001b[0m \u001b[0;32mdef\u001b[0m \u001b[0msampleSR\u001b[0m\u001b[0;34m(\u001b[0m\u001b[0ms\u001b[0m\u001b[0;34m,\u001b[0m \u001b[0ma\u001b[0m\u001b[0;34m,\u001b[0m \u001b[0mT\u001b[0m\u001b[0;34m)\u001b[0m\u001b[0;34m:\u001b[0m\u001b[0;34m\u001b[0m\u001b[0m\n\u001b[0;32m--> 272\u001b[0;31m     \u001b[0ms1\u001b[0m \u001b[0;34m=\u001b[0m \u001b[0msampleProbability\u001b[0m\u001b[0;34m(\u001b[0m\u001b[0mT\u001b[0m\u001b[0;34m[\u001b[0m\u001b[0ms\u001b[0m\u001b[0;34m]\u001b[0m\u001b[0;34m[\u001b[0m\u001b[0ma\u001b[0m\u001b[0;34m]\u001b[0m\u001b[0;34m)\u001b[0m\u001b[0;34m\u001b[0m\u001b[0m\n\u001b[0m\u001b[1;32m    273\u001b[0m \u001b[0;34m\u001b[0m\u001b[0m\n\u001b[1;32m    274\u001b[0m     \u001b[0;32mreturn\u001b[0m \u001b[0ms1\u001b[0m\u001b[0;34m,\u001b[0m \u001b[0mgetReward\u001b[0m\u001b[0;34m(\u001b[0m\u001b[0mdecodeState\u001b[0m\u001b[0;34m(\u001b[0m\u001b[0ms\u001b[0m\u001b[0;34m)\u001b[0m\u001b[0;34m,\u001b[0m \u001b[0mA\u001b[0m\u001b[0;34m[\u001b[0m\u001b[0ma\u001b[0m\u001b[0;34m]\u001b[0m\u001b[0;34m,\u001b[0m \u001b[0mdecodeState\u001b[0m\u001b[0;34m(\u001b[0m\u001b[0ms1\u001b[0m\u001b[0;34m)\u001b[0m\u001b[0;34m)\u001b[0m\u001b[0;34m\u001b[0m\u001b[0m\n",
      "\u001b[0;31mTypeError\u001b[0m: list indices must be integers, not float"
     ]
    }
   ],
   "source": [
    "%run -i 'robot_ice.py' --algorithm linear"
   ]
  },
  {
   "cell_type": "code",
   "execution_count": null,
   "metadata": {
    "collapsed": true
   },
   "outputs": [],
   "source": []
  }
 ],
 "metadata": {
  "kernelspec": {
   "display_name": "Python 2",
   "language": "python",
   "name": "python2"
  },
  "language_info": {
   "codemirror_mode": {
    "name": "ipython",
    "version": 2
   },
   "file_extension": ".py",
   "mimetype": "text/x-python",
   "name": "python",
   "nbconvert_exporter": "python",
   "pygments_lexer": "ipython2",
   "version": "2.7.14"
  }
 },
 "nbformat": 4,
 "nbformat_minor": 2
}
